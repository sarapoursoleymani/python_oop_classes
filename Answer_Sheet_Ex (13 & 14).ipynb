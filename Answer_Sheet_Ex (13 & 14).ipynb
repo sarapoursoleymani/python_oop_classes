{
 "cells": [
  {
   "cell_type": "markdown",
   "id": "ead54e1a",
   "metadata": {},
   "source": [
    "<div style=\"color: white;padding-top:18px;text-align:center;background-color:#610C9F;border-radius:15px;border: 1px solid white;\"> \n",
    "    <h3>Exercise 13 (score:300 + 50(GitHub)\n",
    "    )</h3>\n",
    "</div>"
   ]
  },
  {
   "cell_type": "markdown",
   "id": "9986a78d",
   "metadata": {},
   "source": [
    "<div style=\"color: white;padding-top:18px;text-align:left;background-color:#940B92;border-radius:15px;border: 1px solid white;\"> \n",
    "    <h4>Question 01 (OOP)(100):</h4>\n",
    "    <p>Create a class Rectangle with attributes length and width and methods area(),\n",
    "</p>\n",
    "<p>perimeter() and display()for show length and width. Test your class by creating</p>\n",
    "<p>two objects and call attributes and methods forthis objects</p>\n",
    "</div>"
   ]
  },
  {
   "cell_type": "code",
   "execution_count": 2,
   "id": "7710ae23",
   "metadata": {},
   "outputs": [
    {
     "name": "stdout",
     "output_type": "stream",
     "text": [
      "Length: 6\n",
      "Width: 4\n",
      "Area: 24\n",
      "Perimeter: 20\n",
      "\n",
      "Length: 9\n",
      "Width: 6\n",
      "Area: 54\n",
      "Perimeter: 30\n"
     ]
    }
   ],
   "source": [
    "class Rectangle:\n",
    "        def __init__(self, length, width):\n",
    "            self.length = length\n",
    "            self.width = width\n",
    "        def area(self):\n",
    "             return self.length * self.width\n",
    "        def perimeter(self):\n",
    "            return 2 * (self.length + self.width)\n",
    "        def display(self):\n",
    "             print(f\"Length: {self.length}\")\n",
    "             print(f\"Width: {self.width}\")\n",
    "rect1 = Rectangle(6, 4)\n",
    "rect2 = Rectangle(9, 6)\n",
    "rect1.display()\n",
    "print(f\"Area: {rect1.area()}\")\n",
    "print(f\"Perimeter: {rect1.perimeter()}\")\n",
    "print()\n",
    "rect2.display()\n",
    "print(f\"Area: {rect2.area()}\")\n",
    "print(f\"Perimeter: {rect2.perimeter()}\")"
   ]
  },
  {
   "cell_type": "markdown",
   "id": "488e01d2",
   "metadata": {},
   "source": [
    "<div style=\"color: white;padding-top:18px;text-align:left;background-color:#940B92;border-radius:15px;border: 1px solid white;\"> \n",
    "    <h4>Question 02 (OOP)(100)</h4>\n",
    "<p> Create a Class Calculator</p>\n",
    "<p>Methods: Should include at least add(x, y), subtract(x, y), multiply(x, y), \n",
    "and divide(x, y). Each method performs the respective operation and \n",
    "returns the result.</p>"
   ]
  },
  {
   "cell_type": "code",
   "execution_count": 3,
   "id": "0d6db2ad",
   "metadata": {},
   "outputs": [],
   "source": [
    "class Calculator:\n",
    "  def add(self, x, y):\n",
    "    return x + y\n",
    "  def subtract(self, x, y):\n",
    "     return x - y\n",
    "  def multiply(self, x, y):\n",
    "    return x * y\n",
    "  def divide(self, x, y):\n",
    "   if y != 0:\n",
    "     return x / y\n",
    "   else:\n",
    "     return \"Division by zero is not allowed\""
   ]
  },
  {
   "cell_type": "code",
   "execution_count": 4,
   "id": "f2a66f42",
   "metadata": {},
   "outputs": [
    {
     "name": "stdout",
     "output_type": "stream",
     "text": [
      "Addition: 28.0, Subtraction: -4.0, Multiplication: 192.0, Division: 0.75\n"
     ]
    }
   ],
   "source": [
    "calc = Calculator()\n",
    "num1 = float(input(\"Enter first number: \"))\n",
    "num2 = float(input(\"Enter second number: \"))\n",
    "result_add = calc.add(num1, num2)\n",
    "result_subtract = calc.subtract(num1, num2)\n",
    "result_multiply = calc.multiply(num1, num2)\n",
    "result_divide = calc.divide(num1, num2)\n",
    "print(f\"Addition: {result_add}, Subtraction: {result_subtract}, Multiplication: {result_multiply}, Division: {result_divide}\")"
   ]
  },
  {
   "cell_type": "markdown",
   "id": "021be85c",
   "metadata": {},
   "source": [
    "<div style=\"color: white;padding-top:18px;text-align:left;background-color:#940B92;border-radius:15px;border: 1px solid white;\"> \n",
    "    <h4>Question 03 (OOP)(100)</h4>\n",
    "<p><b>Class Counter</b></p>\n",
    "<p>Attribute: count, initially set to zero.</p>\n",
    "<p>Methods:</p>\n",
    " <p>increment(): Increments count by 1.</p>\n",
    " <p>decrement(): Decrements count by 1, but never below zero.</p>\n",
    " <p>reset(): Resets count to zero.</p>\n",
    " <p>get_count(): Returns the current value of count</p>\n",
    "</div>"
   ]
  },
  {
   "cell_type": "code",
   "execution_count": 1,
   "id": "32b3c29d",
   "metadata": {},
   "outputs": [],
   "source": [
    "class Counter:\n",
    "    def __init__(self):\n",
    "      self.count = 0\n",
    "    def increment(self):\n",
    "      self.count += 1\n",
    "    def decrement(self):\n",
    "      if self.count > 0:\n",
    "         self.count -= 1\n",
    "    def reset(self):\n",
    "       self.count = 0\n",
    "    def get_count(self):\n",
    "       return self.count "
   ]
  },
  {
   "cell_type": "code",
   "execution_count": 2,
   "id": "229800e7",
   "metadata": {},
   "outputs": [
    {
     "name": "stdout",
     "output_type": "stream",
     "text": [
      "1\n",
      "0\n",
      "0\n"
     ]
    }
   ],
   "source": [
    "counter = Counter()\n",
    "counter.increment()\n",
    "print(counter.get_count()) \n",
    "counter.decrement()\n",
    "print(counter.get_count()) \n",
    "counter.reset()\n",
    "print(counter.get_count()) "
   ]
  },
  {
   "cell_type": "markdown",
   "id": "0e2c870c",
   "metadata": {},
   "source": [
    "<div style=\"color: white;padding-top:18px;text-align:center;background-color:#610C9F;border-radius:15px;border: 1px solid white;\"> \n",
    "    <h3>Exercise 14 (score:200 + 50(GitHub)\n",
    "    )</h3>\n",
    "</div>"
   ]
  },
  {
   "cell_type": "markdown",
   "id": "98cda4ff",
   "metadata": {},
   "source": [
    "<div style=\"color: white;padding-top:18px;text-align:left;background-color:#940B92;border-radius:15px;border: 1px solid white;\"> \n",
    "    <h4>Question 01 (methods, attribute)(200)</h4>\n",
    "<p>You need to create a Python class Book with the following specifications:<p>\n",
    "<p>Each book has a id,title, year, author, price, and discount(all provided when the book is\n",
    "created).<p>\n",
    "<p>The id of each book follows a specific format:the firsttwo characters should be letters,and the lasttwo should be digits (e.g.,\"AB12\"). Ifthe ID is not valid,raise a ValueError.<p>\n",
    "<p>The class should include a method to calculate the total price ofthe book. The total price is calculated as the book’s price minus the discount.<p>\n",
    "<p>Include a method that prints how many books have been created.<p>\n",
    "<p>Implementthe __str__ method thatreturns a string representing the book’s details in\n",
    "the following format: \"Title:{title}, Author:{author}, Year:{year}, Price:{total_price}\".<p>\n",
    "\n",
    "</div>"
   ]
  },
  {
   "cell_type": "code",
   "execution_count": 8,
   "id": "e3856ce6",
   "metadata": {},
   "outputs": [
    {
     "name": "stdout",
     "output_type": "stream",
     "text": [
      "Title: Python, Author: VAHEDI, Year: 2021, Price: 52\n",
      "Total books created: 1\n",
      "Title: Data Science, Author: AMIRI, Year: 2022, Price: 50\n",
      "Total books created: 2\n",
      "Invalid ID format. Must be in the format 'AB12'.\n"
     ]
    }
   ],
   "source": [
    "class Book:\n",
    "    book_count = 0\n",
    "    def __init__(self, book_id, title, year, author, price, discount):\n",
    "        if not Book.validate_id(book_id):\n",
    "          raise ValueError(\"Invalid ID format. Must be in the format 'AB12'.\")\n",
    "        self.book_id = book_id    \n",
    "        self.title = title\n",
    "        self.year = year   \n",
    "        self.author = author\n",
    "        self.price = price \n",
    "        self.discount = discount\n",
    "        Book.book_count += 1\n",
    "    @staticmethod\n",
    "    def validate_id(book_id):\n",
    "            return len(book_id) == 4 and book_id[:2].isalpha() and book_id[2:].isdigit()\n",
    "    def total_price(self):\n",
    "            return self.price - self.discount\n",
    "    @classmethod\n",
    "    def get_book_count(cls):\n",
    "            return cls.book_count\n",
    "    def __str__(self):\n",
    "                return f\"Title: {self.title}, Author: {self.author}, Year: {self.year}, Price: {self.total_price()}\"\n",
    "try:\n",
    "    book1 = Book(\"AB12\", \"Python\", 2021, \"VAHEDI\", 56, 4)\n",
    "    print(book1)\n",
    "    print(\"Total books created:\", Book.get_book_count())\n",
    "    book2 = Book(\"XY24\", \"Data Science\", 2022, \"AMIRI\", 60, 10)\n",
    "    print(book2)\n",
    "    print(\"Total books created:\", Book.get_book_count())\n",
    "    book3 = Book(\"ABCD\", \"R\", 2023, \"SALEHI\", 40, 5)\n",
    "except ValueError as e:\n",
    "    print(e)"
   ]
  }
 ],
 "metadata": {
  "kernelspec": {
   "display_name": "Python 3 (ipykernel)",
   "language": "python",
   "name": "python3"
  },
  "language_info": {
   "codemirror_mode": {
    "name": "ipython",
    "version": 3
   },
   "file_extension": ".py",
   "mimetype": "text/x-python",
   "name": "python",
   "nbconvert_exporter": "python",
   "pygments_lexer": "ipython3",
   "version": "3.12.4"
  }
 },
 "nbformat": 4,
 "nbformat_minor": 5
}

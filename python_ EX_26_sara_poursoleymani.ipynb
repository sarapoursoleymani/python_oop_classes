{
 "cells": [
  {
   "cell_type": "markdown",
   "id": "fb7a8054",
   "metadata": {},
   "source": [
    "<div style=\"color: white;padding-top:18px;text-align:center;background-color:#8B008B;border-radius:15px;border: 1px solid white;\"> \n",
    "    <h3>Exercise 26 (score:400 + 100)</h3>\n",
    "</div>"
   ]
  },
  {
   "cell_type": "markdown",
   "id": "bd5458df",
   "metadata": {},
   "source": [
    "<div style=\"color: black;font-family:Georgia;padding-top:18px;text-align:left;background-color:lightskyblue;border-radius:15px;border: 2px solid cornflowerblue;\">\n",
    "    <h4>Question 01 (400):</h4>\n",
    "<p>Develop a Python program using a functional approach for managing a MongoDB database of\n",
    "studentrecords. The program should encompass functionalities for adding,removing, searching,\n",
    "and displaying student details</p>\n",
    "\n",
    "<li>Add Student Records\n",
    "Include functionality to add new studentrecords with the required attributes (student_id,\n",
    "name, age).</li>\n",
    "<li>Remove Student Records\n",
    "Implementthe ability to remove a studentrecord using the student_id.</li>\n",
    "<li>Search for Student Records\n",
    "Develop a function to find and retrieve details of a student using their student_id.</li>\n",
    "<li>Display Student Details\n",
    "Create a feature to show details of all studentrecords.</li>\n",
    "    \n",
    "</div>"
   ]
  },
  {
   "cell_type": "code",
   "execution_count": null,
   "id": "99937553-2a26-4787-b365-d46f41243c5e",
   "metadata": {},
   "outputs": [
    {
     "name": "stdout",
     "output_type": "stream",
     "text": [
      "Error: 'config.json' not found.\n",
      "Database connection failed: 'NoneType' object has no attribute 'get'\n",
      "\n",
      "Select an option:\n",
      "1. Add a new student\n",
      "2. Remove a student\n",
      "3. Search for a student\n",
      "4. Display all students\n",
      "5. Exit\n"
     ]
    }
   ],
   "source": [
    "from pymongo import MongoClient\n",
    "import json\n",
    "def load_config():\n",
    "    try:\n",
    "        with open(\"config.json\", \"r\") as config_file:\n",
    "            return json.load(config_file)\n",
    "    except FileNotFoundError:\n",
    "        print(\"Error: 'config.json' not found.\")\n",
    "        exit()\n",
    "    except json.JSONDecodeError:\n",
    "        print(\"Error: Failed to parse 'config.json'. Please check the file format.\")\n",
    "        exit()\n",
    "config = load_config()\n",
    "try:\n",
    "    client = MongoClient(config.get(\"connection\"))\n",
    "    db = client[config.get(\"db_name\", \"test_db\")]\n",
    "    students_collection = db[config.get(\"students_collection\", \"students\")]\n",
    "    print(\"Connected to the database successfully.\")\n",
    "except Exception as e:\n",
    "    print(f\"Database connection failed: {e}\")\n",
    "    exit()\n",
    "def add_student():\n",
    "    student_id = input(\"Enter the student ID: \").strip()\n",
    "    if students_collection.find_one({\"student_id\": student_id}):\n",
    "        print(f\"Student with ID {student_id} already exists.\")\n",
    "        return\n",
    "    student_name = input(\"Enter the student's name: \").strip()\n",
    "    student_age = input(\"Enter the student's age: \").strip()\n",
    "    if not student_age.isdigit():\n",
    "        print(\"Invalid input: Age must be a numeric value.\")\n",
    "        return\n",
    "    student_record = {\n",
    "        \"student_id\": student_id,\n",
    "        \"student_name\": student_name,\n",
    "        \"student_age\": int(student_age)\n",
    "    }\n",
    "    try:\n",
    "        students_collection.insert_one(student_record)\n",
    "        print(\"Student record added successfully.\")\n",
    "    except Exception as e:\n",
    "        print(f\"Failed to add student record: {e}\")\n",
    "def remove_student():\n",
    "    student_id = input(\"Enter the student ID to remove: \").strip()\n",
    "    result = students_collection.delete_one({\"student_id\": student_id})\n",
    "    if result.deleted_count > 0:\n",
    "        print(f\"Student with ID {student_id} has been removed.\")\n",
    "    else:\n",
    "        print(f\"No student found with ID {student_id}.\")\n",
    "def search_student():\n",
    "    student_id = input(\"Enter the student ID to search for: \").strip()\n",
    "    student = students_collection.find_one({\"student_id\": student_id})\n",
    "    if student:\n",
    "        print(\"Student found:\")\n",
    "        print(f\"ID: {student['student_id']}, Name: {student['student_name']}, Age: {student['student_age']}\")\n",
    "    else:\n",
    "        print(f\"No student found with ID {student_id}.\")\n",
    "def display_all_students():\n",
    "    all_students = students_collection.find()\n",
    "    print(\"\\nStudent Records:\")\n",
    "    for student in all_students:\n",
    "        print(f\"ID: {student['student_id']}, Name: {student['student_name']}, Age: {student['student_age']}\")\n",
    "def main_menu():\n",
    "    while True:\n",
    "        print(\"\\nSelect an option:\")\n",
    "        print(\"1. Add a new student\")\n",
    "        print(\"2. Remove a student\")\n",
    "        print(\"3. Search for a student\")\n",
    "        print(\"4. Display all students\")\n",
    "        print(\"5. Exit\")\n",
    "        choice = input(\"Enter your choice: \").strip()\n",
    "        if choice == \"1\":\n",
    "            add_student()\n",
    "        elif choice == \"2\":\n",
    "            remove_student()\n",
    "        elif choice == \"3\":\n",
    "            search_student()\n",
    "        elif choice == \"4\":\n",
    "            display_all_students()\n",
    "        elif choice == \"5\":\n",
    "            print(\"Exiting the program.\")\n",
    "            break\n",
    "        else:\n",
    "            print(\"Invalid choice. Please try again.\")\n",
    "if __name__== \"__main__\":\n",
    "    main_menu()"
   ]
  },
  {
   "cell_type": "markdown",
   "id": "293056e3",
   "metadata": {},
   "source": [
    "<h2 style=\"color: blue:; background-color: purple\">Don't give up on your dreams :)</h2>"
   ]
  }
 ],
 "metadata": {
  "kernelspec": {
   "display_name": "Python 3",
   "language": "python",
   "name": "python3"
  },
  "language_info": {
   "codemirror_mode": {
    "name": "ipython",
    "version": 3
   },
   "file_extension": ".py",
   "mimetype": "text/x-python",
   "name": "python",
   "nbconvert_exporter": "python",
   "pygments_lexer": "ipython3",
   "version": "3.12.4"
  }
 },
 "nbformat": 4,
 "nbformat_minor": 5
}

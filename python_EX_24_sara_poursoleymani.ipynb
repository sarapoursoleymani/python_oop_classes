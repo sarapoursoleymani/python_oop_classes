{
 "cells": [
  {
   "cell_type": "code",
   "execution_count": 1,
   "metadata": {},
   "outputs": [],
   "source": [
    "import sqlite3\n",
    "conn = sqlite3.connect('university.db')\n",
    "cursor = conn.cursor()"
   ]
  },
  {
   "cell_type": "code",
   "execution_count": 2,
   "metadata": {},
   "outputs": [],
   "source": [
    "cursor.execute('''\n",
    "CREATE TABLE IF NOT EXISTS Students (\n",
    "    StudentID INTEGER PRIMARY KEY,\n",
    "    FirstName TEXT NOT NULL,\n",
    "    LastName TEXT NOT NULL,\n",
    "    DateOfBirth DATE,\n",
    "    Email TEXT\n",
    ")\n",
    "''')\n",
    "cursor.execute('''\n",
    "CREATE TABLE IF NOT EXISTS Courses (\n",
    "    CourseID INTEGER PRIMARY KEY,\n",
    "    CourseName TEXT NOT NULL,\n",
    "    Instructor TEXT\n",
    ")\n",
    "''')\n",
    "cursor.execute('''\n",
    "CREATE TABLE IF NOT EXISTS Enrollments (\n",
    "    EnrollmentID INTEGER PRIMARY KEY,\n",
    "    StudentID INTEGER NOT NULL,\n",
    "    CourseID INTEGER NOT NULL,\n",
    "    EnrollmentDate DATE,\n",
    "    FOREIGN KEY (StudentID) REFERENCES Students(StudentID),\n",
    "    FOREIGN KEY (CourseID) REFERENCES Courses(CourseID)\n",
    ")\n",
    "''')\n",
    "conn.commit()"
   ]
  },
  {
   "cell_type": "code",
   "execution_count": 4,
   "metadata": {},
   "outputs": [],
   "source": [
    "cursor.execute('DELETE FROM Students')\n",
    "conn.commit()"
   ]
  },
  {
   "cell_type": "code",
   "execution_count": 5,
   "metadata": {},
   "outputs": [
    {
     "name": "stdout",
     "output_type": "stream",
     "text": [
      "[]\n"
     ]
    }
   ],
   "source": [
    "cursor.execute('SELECT * FROM Students')\n",
    "print(cursor.fetchall())"
   ]
  },
  {
   "cell_type": "code",
   "execution_count": 6,
   "metadata": {},
   "outputs": [
    {
     "name": "stdout",
     "output_type": "stream",
     "text": [
      "Students data inserted successfully.\n"
     ]
    }
   ],
   "source": [
    "cursor.executemany('''\n",
    "INSERT INTO Students (StudentID, FirstName, LastName, DateOfBirth, Email)\n",
    "VALUES (?, ?, ?, ?, ?)\n",
    "''', [\n",
    "    (1, 'Ali', 'Ahmadi', '1995-04-12', 'ali.ahmadi@example.com'),\n",
    "    (2, 'Sara', 'Karimi', '1998-08-22', 'sara.karimi@example.com'),\n",
    "    (3, 'Reza', 'Hosseini', '2000-02-15', 'reza.hosseini@example.com')\n",
    "])\n",
    "\n",
    "conn.commit()\n",
    "print(\"Students data inserted successfully.\")"
   ]
  },
  {
   "cell_type": "code",
   "execution_count": 7,
   "metadata": {},
   "outputs": [
    {
     "name": "stdout",
     "output_type": "stream",
     "text": [
      "[(1, 'Ali', 'Ahmadi', '1995-04-12', 'ali.ahmadi@example.com'), (2, 'Sara', 'Karimi', '1998-08-22', 'sara.karimi@example.com'), (3, 'Reza', 'Hosseini', '2000-02-15', 'reza.hosseini@example.com')]\n"
     ]
    }
   ],
   "source": [
    "cursor.execute('SELECT * FROM Students')\n",
    "print(cursor.fetchall())"
   ]
  },
  {
   "cell_type": "code",
   "execution_count": 11,
   "metadata": {},
   "outputs": [],
   "source": [
    "cursor.execute('DELETE FROM Courses')\n",
    "conn.commit()"
   ]
  },
  {
   "cell_type": "code",
   "execution_count": 12,
   "metadata": {},
   "outputs": [
    {
     "name": "stdout",
     "output_type": "stream",
     "text": [
      "Courses data inserted successfully.\n"
     ]
    }
   ],
   "source": [
    "cursor.executemany('''\n",
    "INSERT INTO Courses (CourseID, CourseName, Instructor)\n",
    "VALUES (?, ?, ?)\n",
    "''', [\n",
    "    (101, 'Introduction to Java', 'Dr. Smith'),\n",
    "    (102, 'Database Systems', 'Dr. Johnson'),\n",
    "    (103, 'Data Structures', 'Dr. Brown')\n",
    "])\n",
    "\n",
    "conn.commit()\n",
    "print(\"Courses data inserted successfully.\")"
   ]
  },
  {
   "cell_type": "code",
   "execution_count": 13,
   "metadata": {},
   "outputs": [
    {
     "name": "stdout",
     "output_type": "stream",
     "text": [
      "[(101, 'Introduction to Java', 'Dr. Smith'), (102, 'Database Systems', 'Dr. Johnson'), (103, 'Data Structures', 'Dr. Brown')]\n"
     ]
    }
   ],
   "source": [
    "cursor.execute('SELECT * FROM Courses')\n",
    "print(cursor.fetchall())"
   ]
  },
  {
   "cell_type": "code",
   "execution_count": 15,
   "metadata": {},
   "outputs": [
    {
     "name": "stdout",
     "output_type": "stream",
     "text": [
      "All records from Enrollments table deleted.\n"
     ]
    }
   ],
   "source": [
    "cursor.execute('DELETE FROM Enrollments')\n",
    "conn.commit()\n",
    "print(\"All records from Enrollments table deleted.\")"
   ]
  },
  {
   "cell_type": "code",
   "execution_count": 16,
   "metadata": {},
   "outputs": [
    {
     "name": "stdout",
     "output_type": "stream",
     "text": [
      "Enrollments data inserted successfully.\n"
     ]
    }
   ],
   "source": [
    "cursor.executemany('''\n",
    "INSERT INTO Enrollments (EnrollmentID, StudentID, CourseID, EnrollmentDate)\n",
    "VALUES (?, ?, ?, ?)\n",
    "''', [\n",
    "    (1, 1, 101, '2024-01-10'),\n",
    "    (2, 1, 102, '2024-01-11'),\n",
    "    (3, 2, 101, '2024-01-12'),\n",
    "    (4, 3, 103, '2024-01-20')\n",
    "])\n",
    "\n",
    "conn.commit()\n",
    "print(\"Enrollments data inserted successfully.\")"
   ]
  },
  {
   "cell_type": "code",
   "execution_count": 17,
   "metadata": {},
   "outputs": [
    {
     "name": "stdout",
     "output_type": "stream",
     "text": [
      "Students Table:\n",
      "[(1, 'Ali', 'Ahmadi', '1995-04-12', 'ali.ahmadi@example.com'), (2, 'Sara', 'Karimi', '1998-08-22', 'sara.karimi@example.com'), (3, 'Reza', 'Hosseini', '2000-02-15', 'reza.hosseini@example.com')]\n",
      "\n",
      "Courses Table:\n",
      "[(101, 'Introduction to Java', 'Dr. Smith'), (102, 'Database Systems', 'Dr. Johnson'), (103, 'Data Structures', 'Dr. Brown')]\n",
      "\n",
      "Enrollments Table:\n",
      "[(1, 1, 101, '2024-01-10'), (2, 1, 102, '2024-01-11'), (3, 2, 101, '2024-01-12'), (4, 3, 103, '2024-01-20')]\n"
     ]
    }
   ],
   "source": [
    "cursor.execute('SELECT * FROM Students')\n",
    "print(\"Students Table:\")\n",
    "print(cursor.fetchall())\n",
    "\n",
    "cursor.execute('SELECT * FROM Courses')\n",
    "print(\"\\nCourses Table:\")\n",
    "print(cursor.fetchall())\n",
    "\n",
    "cursor.execute('SELECT * FROM Enrollments')\n",
    "print(\"\\nEnrollments Table:\")\n",
    "print(cursor.fetchall())"
   ]
  },
  {
   "cell_type": "code",
   "execution_count": 19,
   "metadata": {},
   "outputs": [
    {
     "name": "stdout",
     "output_type": "stream",
     "text": [
      "Student Enrollments:\n",
      "[('Ali Ahmadi', 2), ('Sara Karimi', 1), ('Reza Hosseini', 1)]\n"
     ]
    }
   ],
   "source": [
    "cursor.execute('''\n",
    "SELECT Students.FirstName || ' ' ||  Students.LastName AS StudentName, \n",
    "       COUNT(Enrollments.CourseID) AS CourseCount\n",
    "FROM Students\n",
    "LEFT JOIN Enrollments ON Students.StudentID = Enrollments.StudentID\n",
    "GROUP BY Students.StudentID\n",
    "''')\n",
    "print(\"Student Enrollments:\")\n",
    "print(cursor.fetchall())"
   ]
  },
  {
   "cell_type": "code",
   "execution_count": 20,
   "metadata": {},
   "outputs": [
    {
     "name": "stdout",
     "output_type": "stream",
     "text": [
      "Students with less than 2 courses removed.\n"
     ]
    }
   ],
   "source": [
    "cursor.execute('''\n",
    "DELETE FROM Students\n",
    "WHERE StudentID IN (\n",
    "    SELECT Students.StudentID\n",
    "    FROM Students\n",
    "    LEFT JOIN Enrollments ON Students.StudentID = Enrollments.StudentID\n",
    "    GROUP BY Students.StudentID\n",
    "    HAVING COUNT(Enrollments.CourseID) < 2\n",
    ")\n",
    "''')\n",
    "conn.commit()\n",
    "print(\"Students with less than 2 courses removed.\")"
   ]
  },
  {
   "cell_type": "code",
   "execution_count": 21,
   "metadata": {},
   "outputs": [
    {
     "name": "stdout",
     "output_type": "stream",
     "text": [
      "Courses updated successfully.\n"
     ]
    }
   ],
   "source": [
    "cursor.execute('''\n",
    "UPDATE Courses\n",
    "SET CourseName = REPLACE(CourseName, 'Java', 'Python')\n",
    "WHERE CourseName LIKE '%Java%'\n",
    "''')\n",
    "conn.commit()\n",
    "print(\"Courses updated successfully.\")"
   ]
  },
  {
   "cell_type": "code",
   "execution_count": 22,
   "metadata": {},
   "outputs": [
    {
     "name": "stdout",
     "output_type": "stream",
     "text": [
      "Updated Courses Table:\n",
      "[(101, 'Introduction to Python', 'Dr. Smith'), (102, 'Database Systems', 'Dr. Johnson'), (103, 'Data Structures', 'Dr. Brown')]\n"
     ]
    }
   ],
   "source": [
    "cursor.execute('SELECT * FROM Courses')\n",
    "print(\"Updated Courses Table:\")\n",
    "print(cursor.fetchall())"
   ]
  },
  {
   "cell_type": "code",
   "execution_count": 23,
   "metadata": {},
   "outputs": [
    {
     "name": "stdout",
     "output_type": "stream",
     "text": [
      "Database connection closed.\n"
     ]
    }
   ],
   "source": [
    "conn.close()\n",
    "print(\"Database connection closed.\")"
   ]
  }
 ],
 "metadata": {
  "kernelspec": {
   "display_name": "Python 3",
   "language": "python",
   "name": "python3"
  },
  "language_info": {
   "codemirror_mode": {
    "name": "ipython",
    "version": 3
   },
   "file_extension": ".py",
   "mimetype": "text/x-python",
   "name": "python",
   "nbconvert_exporter": "python",
   "pygments_lexer": "ipython3",
   "version": "3.12.4"
  }
 },
 "nbformat": 4,
 "nbformat_minor": 2
}

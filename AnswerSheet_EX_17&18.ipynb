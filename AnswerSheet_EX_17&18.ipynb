{
 "cells": [
  {
   "cell_type": "markdown",
   "id": "fb7a8054",
   "metadata": {},
   "source": [
    "<div style=\"color: white;padding-top:18px;text-align:center;background-color:#8B008B;border-radius:15px;border: 1px solid white;\"> \n",
    "    <h3>Exercise 17 (score:120 + 50)</h3>\n",
    "</div>"
   ]
  },
  {
   "cell_type": "markdown",
   "id": "bd5458df",
   "metadata": {},
   "source": [
    "<div style=\"color: black;font-family:Georgia;padding-top:18px;text-align:left;background-color:lightskyblue;border-radius:15px;border: 2px solid cornflowerblue;\">\n",
    "    <h4>Question 01 (Inheritance)(120):</h4>\n",
    "    <p>\n",
    "        Using four different examples, demonstrate all ofthe inheritance types that you have learned.\n",
    "        </p> \n",
    "<li>Single Inheritance</li>\n",
    "<li>Multiple Inheritance</li>\n",
    "<li>Multilevel Inheritance</li> \n",
    "<li>Hierarchical Inheritance</li>\n",
    "    \n",
    "</div>"
   ]
  },
  {
   "cell_type": "code",
   "execution_count": 1,
   "id": "99937553-2a26-4787-b365-d46f41243c5e",
   "metadata": {},
   "outputs": [
    {
     "name": "stdout",
     "output_type": "stream",
     "text": [
      "Animal speaks\n",
      "Dog barks\n"
     ]
    }
   ],
   "source": [
    "class Animal:\n",
    "    def speak(self):\n",
    "        print(\"Animal speaks\")\n",
    "class Dog(Animal):\n",
    "    def bark(self):\n",
    "        print(\"Dog barks\")\n",
    "dog = Dog()\n",
    "dog.speak()\n",
    "dog.bark() \n"
   ]
  },
  {
   "cell_type": "code",
   "execution_count": 2,
   "id": "81809f98",
   "metadata": {},
   "outputs": [
    {
     "name": "stdout",
     "output_type": "stream",
     "text": [
      "Bird can fly\n",
      "Fish can swim\n"
     ]
    }
   ],
   "source": [
    "class Bird:\n",
    "    def fly(self):\n",
    "        print(\"Bird can fly\")\n",
    "class Fish:\n",
    "    def swim(self):\n",
    "        print(\"Fish can swim\")\n",
    "class FlyingFish(Bird, Fish):\n",
    "    pass\n",
    "ffish = FlyingFish()\n",
    "ffish.fly() \n",
    "ffish.swim()"
   ]
  },
  {
   "cell_type": "code",
   "execution_count": 3,
   "id": "e611229d",
   "metadata": {},
   "outputs": [
    {
     "name": "stdout",
     "output_type": "stream",
     "text": [
      "Vehicle is moving\n",
      "Car is driving\n",
      "SportsCar is accelerating\n"
     ]
    }
   ],
   "source": [
    "class Vehicle:\n",
    "    def move(self):\n",
    "        print(\"Vehicle is moving\")\n",
    "class Car(Vehicle):\n",
    "    def drive(self):\n",
    "        print(\"Car is driving\")\n",
    "class SportsCar(Car):\n",
    "    def accelerate(self):\n",
    "        print(\"SportsCar is accelerating\")\n",
    "sc = SportsCar()\n",
    "sc.move() \n",
    "sc.drive()\n",
    "sc.accelerate()"
   ]
  },
  {
   "cell_type": "code",
   "execution_count": 4,
   "id": "84a06029",
   "metadata": {},
   "outputs": [
    {
     "name": "stdout",
     "output_type": "stream",
     "text": [
      "Person speaks\n",
      "Teacher teaches\n",
      "Person speaks\n",
      "Student studies\n"
     ]
    }
   ],
   "source": [
    "class Person:\n",
    "    def speak(self):\n",
    "        print(\"Person speaks\")\n",
    "class Teacher(Person):\n",
    "    def teach(self):\n",
    "        print(\"Teacher teaches\")\n",
    "class Student(Person):\n",
    "    def study(self):\n",
    "        print(\"Student studies\")\n",
    "teacher = Teacher()\n",
    "student = Student()\n",
    "teacher.speak() \n",
    "teacher.teach() \n",
    "\n",
    "student.speak() \n",
    "student.study()"
   ]
  },
  {
   "cell_type": "markdown",
   "id": "d05c947f",
   "metadata": {},
   "source": [
    "<div style=\"color: white;padding-top:18px;text-align:center;background-color:#8B008B;border-radius:15px;border: 1px solid white;\"> \n",
    "    <h3>Exercise 18 (score:180 + 50)</h3>\n",
    "</div>"
   ]
  },
  {
   "cell_type": "markdown",
   "id": "34326ff6",
   "metadata": {},
   "source": [
    "<div style=\"color: black;font-family:Georgia;padding-top:18px;text-align:left;background-color:lightskyblue;border-radius:15px;border: 2px solid cornflowerblue;\">\n",
    "    <h4>Question 01 (Abstraction)(180):</h4>\n",
    "    <p>\n",
    "     Develop a library management system in Python with an abstract base class and specific\n",
    "subclasses using abstraction and polymorphism.\n",
    "    </p>\n",
    "    <p>Abstract Base Class - LibraryItem:</p>\n",
    "    <li>Attributes: ID,title, author.</li>\n",
    "<li>Abstract Method - display_details: Declare withoutimplementation. Subclasses will provide specific\n",
    "details.</li>\n",
    "<p>Subclass - Book:<p>\n",
    "<li>Additional Attributes: pages, genre</li>\n",
    "<li>display_details: Implementto print book's ID,title, author, pages, and genre<li>\n",
    "<p>Subclass - Magazine:</p>\n",
    "<li>Additional Attributes: issue_number, publication_date.</li>\n",
    "<li>display_details: Implementto print magazine's ID,title, issue number, and publication date.</li>\n",
    "<p>Subclass - Article:<p>\n",
    "<li>Additional Attributes: publication_date, summary.</li>\n",
    "<li>display_details: Implementto print article's ID,title, publication date, and summary.</li>\n",
    "</div>"
   ]
  },
  {
   "cell_type": "code",
   "execution_count": 5,
   "id": "2dc85e7c",
   "metadata": {},
   "outputs": [
    {
     "name": "stdout",
     "output_type": "stream",
     "text": [
      "Book ID: 1\n",
      "Title: 1984\n",
      "Author: George Orwell\n",
      "Pages: 328\n",
      "Genre: Dystopian\n",
      "\n",
      "Magazine ID: 2\n",
      "Title: National Geographic\n",
      "Issue Number: 500\n",
      "Publication Date: 2024-10-01\n",
      "\n",
      "Article ID: 3\n",
      "Title: AI in 2024\n",
      "Author: John Smith\n",
      "Publication Date: 2024-09-20\n",
      "Summary: An article about the impact of AI in 2024.\n"
     ]
    }
   ],
   "source": [
    "from abc import ABC, abstractmethod\n",
    "class LibraryItem(ABC):\n",
    "    def __init__(self, ID, title, author):\n",
    "        self.ID = ID\n",
    "        self.title = title\n",
    "        self.author = author\n",
    "    @abstractmethod\n",
    "    def display_details(self):\n",
    "        pass\n",
    "class Book(LibraryItem):\n",
    "    def __init__(self, ID, title, author, pages, genre):\n",
    "        super().__init__(ID, title, author)\n",
    "        self.pages = pages\n",
    "        self.genre = genre\n",
    "    def display_details(self):\n",
    "        print(f\"Book ID: {self.ID}\")\n",
    "        print(f\"Title: {self.title}\")\n",
    "        print(f\"Author: {self.author}\")\n",
    "        print(f\"Pages: {self.pages}\")\n",
    "        print(f\"Genre: {self.genre}\")\n",
    "class Magazine(LibraryItem):\n",
    "    def __init__(self, ID, title, author, issue_number, publication_date):\n",
    "        super().__init__(ID, title, author)\n",
    "        self.issue_number = issue_number\n",
    "        self.publication_date = publication_date\n",
    "    def display_details(self):\n",
    "        print(f\"Magazine ID: {self.ID}\")\n",
    "        print(f\"Title: {self.title}\")\n",
    "        print(f\"Issue Number: {self.issue_number}\")\n",
    "        print(f\"Publication Date: {self.publication_date}\")\n",
    "class Article(LibraryItem):\n",
    "    def __init__(self, ID, title, author, publication_date, summary):\n",
    "        super().__init__(ID, title, author)\n",
    "        self.publication_date = publication_date\n",
    "        self.summary = summary\n",
    "    def display_details(self):\n",
    "        print(f\"Article ID: {self.ID}\")\n",
    "        print(f\"Title: {self.title}\")\n",
    "        print(f\"Author: {self.author}\")\n",
    "        print(f\"Publication Date: {self.publication_date}\")\n",
    "        print(f\"Summary: {self.summary}\")\n",
    "book = Book(1, \"1984\", \"George Orwell\", 328, \"Dystopian\")\n",
    "magazine = Magazine(2, \"National Geographic\", \"Various\", 500, \"2024-10-01\")\n",
    "article = Article(3, \"AI in 2024\", \"John Smith\", \"2024-09-20\", \"An article about the impact of AI in 2024.\")\n",
    "book.display_details()\n",
    "print()\n",
    "magazine.display_details()\n",
    "print()\n",
    "article.display_details()"
   ]
  },
  {
   "cell_type": "markdown",
   "id": "293056e3",
   "metadata": {},
   "source": [
    "<h2 style=\"color: blue:; background-color: purple\">Don't give up on your dreams :)</h2>"
   ]
  }
 ],
 "metadata": {
  "kernelspec": {
   "display_name": "Python 3",
   "language": "python",
   "name": "python3"
  },
  "language_info": {
   "codemirror_mode": {
    "name": "ipython",
    "version": 3
   },
   "file_extension": ".py",
   "mimetype": "text/x-python",
   "name": "python",
   "nbconvert_exporter": "python",
   "pygments_lexer": "ipython3",
   "version": "3.12.4"
  }
 },
 "nbformat": 4,
 "nbformat_minor": 5
}

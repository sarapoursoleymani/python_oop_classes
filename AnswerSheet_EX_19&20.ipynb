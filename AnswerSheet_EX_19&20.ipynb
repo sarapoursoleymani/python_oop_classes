{
 "cells": [
  {
   "cell_type": "markdown",
   "id": "fb7a8054",
   "metadata": {},
   "source": [
    "<div style=\"color: white;padding-top:18px;text-align:center;background-color:#8B008B;border-radius:15px;border: 1px solid white;\"> \n",
    "    <h3>Exercise 19 (score:120 + 50)</h3>\n",
    "</div>"
   ]
  },
  {
   "cell_type": "markdown",
   "id": "bd5458df",
   "metadata": {},
   "source": [
    "<div style=\"color: black;font-family:Georgia;padding-top:18px;text-align:left;background-color:lightskyblue;border-radius:15px;border: 2px solid cornflowerblue;\">\n",
    "    <h4>Question 01 (Encapsulation)(150):</h4>\n",
    "    <p>Design a class called BankAccount with three attributes:</p> \n",
    "    <p>accountNumber (public), balance (protected), password (private).</p>\n",
    "<li>In the BankAccount class, write methods to get and set the balance and password attributes, ensuring proper access control by using getters and setters where necessary.</li>\n",
    "<li>Create a subclass called SavingsAccount, which should try to access the balance and password attributes directly. After encountering access issues, modify the subclass to use the getter and setter methods to access these attributes.</li>\n",
    "<li>Finally, create an object of the BankAccount class and try to access and print the accountNumber, balance, and password attributes directly. Use the getter and setter methods when necessary for accessing the balance and password or changing them.</li> \n",
    "<p>Write comment for:</p>\n",
    "\n",
    "<ul>What happens when accessing each attribute directly.</ul>\n",
    "<ul>Why it is necessary to use getters and setters for certain attributes.</ul>\n",
    "    \n",
    "</div>"
   ]
  },
  {
   "cell_type": "code",
   "execution_count": 1,
   "id": "99937553-2a26-4787-b365-d46f41243c5e",
   "metadata": {},
   "outputs": [
    {
     "name": "stdout",
     "output_type": "stream",
     "text": [
      "Accessing Attributes Directly:\n",
      "Account Number (public): 12345\n",
      "Balance (protected): 1000\n",
      "Cannot access password directly; it's private.\n",
      "\n",
      "Using Getters and Setters:\n",
      "Balance (via getter): 1000\n",
      "Password (via getter): secure123\n",
      "Updated Balance (via getter): 2000\n",
      "Updated Password (via getter): newpass123\n"
     ]
    }
   ],
   "source": [
    "class BankAccount:\n",
    "    def __init__(self, accountNumber, balance, password):\n",
    "        self.accountNumber = accountNumber   \n",
    "        self._balance = balance              \n",
    "        self.__password = password\n",
    "    def get_balance(self):\n",
    "        return self._balance\n",
    "    def set_balance(self, amount):\n",
    "        if amount >= 0:\n",
    "            self._balance = amount\n",
    "        else:\n",
    "            print(\"مقدار موجودی نمی‌تواند منفی باشد.\")\n",
    "    def get_password(self):\n",
    "        return self.__password\n",
    "    def set_password(self, password):\n",
    "        if len(password) >= 6:\n",
    "            self.__password = password\n",
    "        else:\n",
    "            print(\"رمز عبور باید حداقل 6 کاراکتر باشد.\")\n",
    "class SavingsAccount(BankAccount):\n",
    "    def __init__(self, accountNumber, balance, password):\n",
    "        super().__init__(accountNumber, balance, password)\n",
    "    def try_access_attributes(self):\n",
    "        print(\"Account Number:\", self.accountNumber)\n",
    "        try:\n",
    "            print(\"Direct Balance Access:\", self._balance)\n",
    "        except AttributeError:\n",
    "            print(\"Cannot access balance directly; it's protected.\")\n",
    "        try:\n",
    "            print(\"Direct Password Access:\", self.__password)\n",
    "        except AttributeError:\n",
    "            print(\"Cannot access password directly; it's private.\")\n",
    "        print(\"Balance (via getter):\", self.get_balance())\n",
    "        print(\"Password (via getter):\", self.get_password())\n",
    "bank_account = BankAccount(12345, 1000, \"secure123\")\n",
    "print(\"Accessing Attributes Directly:\")\n",
    "print(\"Account Number (public):\", bank_account.accountNumber)\n",
    "try:\n",
    "    print(\"Balance (protected):\", bank_account._balance)   \n",
    "except AttributeError:\n",
    "    print(\"Cannot access balance directly; it's protected.\")\n",
    "try:\n",
    "    print(\"Password (private):\", bank_account.__password)   \n",
    "except AttributeError:\n",
    "    print(\"Cannot access password directly; it's private.\")\n",
    "print(\"\\nUsing Getters and Setters:\")\n",
    "print(\"Balance (via getter):\", bank_account.get_balance())\n",
    "print(\"Password (via getter):\", bank_account.get_password())\n",
    "bank_account.set_balance(2000)\n",
    "bank_account.set_password(\"newpass123\")\n",
    "print(\"Updated Balance (via getter):\", bank_account.get_balance())\n",
    "print(\"Updated Password (via getter):\", bank_account.get_password())\n"
   ]
  },
  {
   "cell_type": "code",
   "execution_count": 2,
   "id": "c11a7769",
   "metadata": {},
   "outputs": [
    {
     "name": "stdout",
     "output_type": "stream",
     "text": [
      "\n",
      "Testing Access in Subclass:\n",
      "Account Number: 54321\n",
      "Direct Balance Access: 3000\n",
      "Cannot access password directly; it's private.\n",
      "Balance (via getter): 3000\n",
      "Password (via getter): mypassword\n"
     ]
    }
   ],
   "source": [
    "savings_account = SavingsAccount(54321, 3000, \"mypassword\")\n",
    "print(\"\\nTesting Access in Subclass:\")\n",
    "savings_account.try_access_attributes()"
   ]
  },
  {
   "cell_type": "markdown",
   "id": "d05c947f",
   "metadata": {},
   "source": [
    "<div style=\"color: white;padding-top:18px;text-align:center;background-color:#8B008B;border-radius:15px;border: 1px solid white;\"> \n",
    "    <h3>Exercise 20 (score:250 + 50)</h3>\n",
    "</div>"
   ]
  },
  {
   "cell_type": "markdown",
   "id": "34326ff6",
   "metadata": {},
   "source": [
    "<div style=\"color: black;font-family:Georgia;padding-top:18px;text-align:left;background-color:lightskyblue;border-radius:15px;border: 2px solid cornflowerblue;\">\n",
    "    <h4>Question 01(OOP) (Project)(180):</h4>\n",
    "    <p>Create a Python project that involves a class named BankAccount with the following attributes and methods:</p>\n",
    "    <p> Attributes:</p>\n",
    "    <li>account_holder: The name of the account holder.</li>\n",
    "    <li>balance: The current balance of the account.</li>\n",
    "    <li>account_number: A unique numeric identifier for the account.</li>\n",
    "<p> Methods:<p>\n",
    "<li>deposit(amount): Adds the specified amount to the account balance.</li>\n",
    "<li> withdraw(amount): Deducts the specified amount from the balance. If the amount exceeds the balance, it should raise a custom exception InsufficientFundsError.<li>\n",
    "<li>check_balance(): Prints the current balance.</li>\n",
    "<li>transfer_to(another_account, amount): Transfers a specified amount to another account, reducing the balance from the current account and adding it to another_account. If the balance is insufficient, raise the InsufficientFundsError.</li>\n",
    "<p>Additionally, implement a custom exception class named InsufficientFundsError that is raised whenever a withdrawal or transfer operation exceeds the available balance.</p>\n",
    "</div>"
   ]
  },
  {
   "cell_type": "code",
   "execution_count": 4,
   "id": "8e03d1e3",
   "metadata": {},
   "outputs": [
    {
     "name": "stdout",
     "output_type": "stream",
     "text": [
      "200 deposited. New balance is 1200.\n",
      "500 withdrawn. New balance is 700.\n",
      "The current balance is 700.\n",
      "300 transferred to account 654321. New balance is 400.\n",
      "The current balance is 400.\n",
      "The current balance is 800.\n"
     ]
    }
   ],
   "source": [
    "class InsufficientFundsError(Exception):\n",
    "    \"\"\"Exception raised when an account has insufficient funds for a transaction.\"\"\"\n",
    "    pass\n",
    "class BankAccount:\n",
    "    def __init__(self, account_holder, account_number, balance=0):\n",
    "        self.account_holder = account_holder\n",
    "        self.account_number = account_number\n",
    "        self.balance = balance\n",
    "    def deposit(self, amount):\n",
    "        if amount <= 0:\n",
    "            print(\"Amount to deposit should be positive.\")\n",
    "            return\n",
    "        self.balance += amount\n",
    "        print(f\"{amount} deposited. New balance is {self.balance}.\")\n",
    "    def withdraw(self, amount):\n",
    "        if amount > self.balance:\n",
    "            raise InsufficientFundsError(\"Insufficient funds for withdrawal.\")\n",
    "        self.balance -= amount\n",
    "        print(f\"{amount} withdrawn. New balance is {self.balance}.\")\n",
    "    def check_balance(self):\n",
    "        print(f\"The current balance is {self.balance}.\")\n",
    "\n",
    "    def transfer_to(self, another_account, amount):\n",
    "        if amount > self.balance:\n",
    "            raise InsufficientFundsError(\"Insufficient funds for transfer.\")\n",
    "        self.balance -= amount\n",
    "        another_account.balance += amount\n",
    "        print(f\"{amount} transferred to account {another_account.account_number}. New balance is {self.balance}.\")\n",
    "account1 = BankAccount(\"Ali\", \"123456\", 1000)\n",
    "account2 = BankAccount(\"Sara\", \"654321\", 500)\n",
    "account1.deposit(200)\n",
    "try:\n",
    "    account1.withdraw(500)\n",
    "except InsufficientFundsError as e:\n",
    "    print(e)\n",
    "account1.check_balance()\n",
    "try:\n",
    "    account1.transfer_to(account2, 300)\n",
    "except InsufficientFundsError as e:\n",
    "    print(e)\n",
    "account1.check_balance()\n",
    "account2.check_balance()\n"
   ]
  },
  {
   "cell_type": "markdown",
   "id": "293056e3",
   "metadata": {},
   "source": [
    "<h2 style=\"color: blue:; background-color: purple\">Don't give up on your dreams :)</h2>"
   ]
  }
 ],
 "metadata": {
  "kernelspec": {
   "display_name": "Python 3",
   "language": "python",
   "name": "python3"
  },
  "language_info": {
   "codemirror_mode": {
    "name": "ipython",
    "version": 3
   },
   "file_extension": ".py",
   "mimetype": "text/x-python",
   "name": "python",
   "nbconvert_exporter": "python",
   "pygments_lexer": "ipython3",
   "version": "3.12.4"
  }
 },
 "nbformat": 4,
 "nbformat_minor": 5
}
